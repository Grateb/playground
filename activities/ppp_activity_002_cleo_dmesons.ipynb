{
 "metadata": {
  "name": "",
  "signature": "sha256:8ed2158595dc4a030e9fac6f61e26e47e7a717f4f9f6414aacd4dc522ec46033"
 },
 "nbformat": 3,
 "nbformat_minor": 0,
 "worksheets": [
  {
   "cells": [
    {
     "cell_type": "heading",
     "level": 1,
     "metadata": {},
     "source": [
      "Reconstructing $D$ mesons"
     ]
    },
    {
     "cell_type": "markdown",
     "metadata": {},
     "source": [
      "<h3>Learning goals</h3>\n",
      "<ul>\n",
      "    <li>Relativistic kinematics.\n",
      "    <li>Mesons.\n",
      "</ul>"
     ]
    },
    {
     "cell_type": "markdown",
     "metadata": {},
     "source": [
      "To prepare for this activity, you should already have looked at the activity on <a href=\"https://github.com/particle-physics-playground/playground/blob/master/activities/ACTIVITY_dimuon_spectrum.ipynb\">how to reconstruct particles from their decay products</a> and <a href=\"https://github.com/particle-physics-playground/playground/blob/master/activities/hello_CLEO.ipynb\">how to interface with CLEO data</a>.\n",
      "\n",
      "After you are familiar with those activities, use the <a href=\"https://github.com/particle-physics-playground/playground/blob/master/activities/download_more_data.ipynb\">download-more-data notebook</a> and grab the Monte Carlo file that simulates the following decay:\n",
      "\n",
      "$$D^+ \\rightarrow K^- \\pi^+ \\pi^+$$ \n",
      "Also grab the CLEO data file. \n",
      "\n",
      "Your challenge is to reconstruct the $D^+$ meson in the Monte Carlo and then go to the data and see if you can find the $D^+$ in the same decay mode. Things to think about:\n",
      "\n",
      "* Make sure you deal with all possible $K\\pi\\pi$ combinations.\n",
      "* How much background is there under the peak in the data? How might you eliminate it? Can you eliminate all of it?\n",
      "* Is there \"structure\" in the $K\\pi$ systems? That is, when you plot the invariant mass of the $K\\pi$ system, do you see any peaks?\n",
      "* Can you make a <a href=\"https://en.wikipedia.org/wiki/Dalitz_plot\">Dalitz</a> <a href=\"http://www2.warwick.ac.uk/fac/sci/physics/staff/academic/gershon/talks/gershon-BadHonnef.pdf\">plot</a> for this decay mode?\n",
      "* Can you find the other decay modes in the data that you have MC for? \n",
      "\n",
      "Have fun and good luck!"
     ]
    },
    {
     "cell_type": "code",
     "collapsed": false,
     "input": [
      "# Your code here"
     ],
     "language": "python",
     "metadata": {},
     "outputs": [],
     "prompt_number": 1
    },
    {
     "cell_type": "code",
     "collapsed": false,
     "input": [],
     "language": "python",
     "metadata": {},
     "outputs": [],
     "prompt_number": 1
    }
   ],
   "metadata": {}
  }
 ]
}