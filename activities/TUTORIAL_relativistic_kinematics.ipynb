{
 "cells": [
  {
   "cell_type": "markdown",
   "metadata": {},
   "source": [
    "# Relativistic kinematics\n",
    "\n",
    "Let's try to keep this ~2 \"pages\" long."
   ]
  },
  {
   "cell_type": "markdown",
   "metadata": {
    "collapsed": true
   },
   "source": [
    "Relativistic kinematics sounds like a complicated term that the average person would be intimidated by. However, it basically means how the laws of physics operate at incredibly fast speeds. But what is considered a fast speed? You might have heard before that the speed of light is the speed limit of the universe. This means that no object that has mass can reach or exceed that speed (**Sidenote**: This law only says that anything *inside* space cannot exceed this speed. Space itself is actually expanding at an accelerated rate that is faster than the speed of light!). What can reach the speed of light? Only particles that have a mass of zero can reach the speed of light, therefore only photons, the particles of light, are able to reach this speed. Although photons have no mass, they still have a momentum, which goes against our knowledge of Newtonian physics $p=mv$. The relativistic momentum is defined as $p=\\gamma mv$ where $\\gamma$ is known as the Lorentz factor. The Lorentz factor takes into account something known as time dilation.\n",
    "\n",
    "$$\\gamma = \\frac{1}{\\sqrt{1-\\frac{v^2}{c^2}}}$$\n",
    "\n",
    "Crazy things begin to happen when you approach the speed of light! Time happens slower, objects horizontally contract in length, and mass increases!  \n",
    "\n",
    "It turns out that the famous equation $E=mc^2$ is only true for objects at rest! The equation for objects in motion is $E=\\gamma m c^2$ \n",
    "\n",
    "In particle physics, we often don't know the masses of particles, but know the energies and momenta. We are able to calculate the invariant mass (mass of particles at rest in their reference frame) using the following formula:\n",
    "\n",
    "$$E^2=m^2c^4+p^2c^2$$\n"
   ]
  },
  {
   "cell_type": "code",
   "execution_count": 6,
   "metadata": {
    "collapsed": false
   },
   "outputs": [
    {
     "data": {
      "text/html": [
       "<iframe width=\"560\" height=\"315\" src=\"https://www.youtube.com/embed/NnMIhxWRGNw\" frameborder=\"0\" allowfullscreen></iframe>"
      ],
      "text/plain": [
       "<IPython.core.display.HTML object>"
      ]
     },
     "execution_count": 6,
     "metadata": {},
     "output_type": "execute_result"
    }
   ],
   "source": [
    "from IPython.display import HTML\n",
    "\n",
    "# Youtube\n",
    "HTML('<iframe width=\"560\" height=\"315\" src=\"https://www.youtube.com/embed/NnMIhxWRGNw\" frameborder=\"0\" allowfullscreen></iframe>')"
   ]
  },
  {
   "cell_type": "markdown",
   "metadata": {
    "collapsed": true
   },
   "source": []
  },
  {
   "cell_type": "markdown",
   "metadata": {},
   "source": [
    "## Other resources.\n",
    "\n",
    "This should be the last cell. \n",
    "\n",
    "* Other link\n",
    "* [Relativistic Mechanics (Wikipedia)](https://en.wikipedia.org/wiki/Relativistic_mechanics)"
   ]
  },
  {
   "cell_type": "code",
   "execution_count": null,
   "metadata": {
    "collapsed": true
   },
   "outputs": [],
   "source": []
  }
 ],
 "metadata": {
  "anaconda-cloud": {},
  "kernelspec": {
   "display_name": "Python 2",
   "language": "python",
   "name": "python2"
  },
  "language_info": {
   "codemirror_mode": {
    "name": "ipython",
    "version": 2
   },
   "file_extension": ".py",
   "mimetype": "text/x-python",
   "name": "python",
   "nbconvert_exporter": "python",
   "pygments_lexer": "ipython2",
   "version": "2.7.11"
  }
 },
 "nbformat": 4,
 "nbformat_minor": 1
}
