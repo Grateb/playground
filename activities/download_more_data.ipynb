{
 "metadata": {
  "name": "",
  "signature": "sha256:614026762ed18ca92c4eb123138c04ca9c1b4ebbe56ed29e5d54b56596c22ae4"
 },
 "nbformat": 3,
 "nbformat_minor": 0,
 "worksheets": [
  {
   "cells": [
    {
     "cell_type": "markdown",
     "metadata": {},
     "source": [
      "This notebook provides a way to download data files using the <a href=\"http://docs.python-requests.org/en/latest/\">Python requests library</a>.\n",
      "\n",
      "The first thing we do is import requests and write a helper function to download a data file, given the url. "
     ]
    },
    {
     "cell_type": "code",
     "collapsed": false,
     "input": [
      "import requests\n",
      "\n",
      "# Grabbed the following snippet from \n",
      "# http://stackoverflow.com/questions/16694907/how-to-download-large-file-in-python-with-requests-py\n",
      "def download_file(url):\n",
      "    local_filename = \"../data/%s\" % (url.split('/')[-1])\n",
      "    # NOTE the stream=True parameter\n",
      "    r = requests.get(url, stream=True)\n",
      "    print \"Downloading %s.....\" % (local_filename)\n",
      "    with open(local_filename, 'wb') as f:\n",
      "        for chunk in r.iter_content(chunk_size=1024): \n",
      "            if chunk: # filter out keep-alive new chunks\n",
      "                f.write(chunk)\n",
      "                f.flush()\n",
      "    return local_filename"
     ],
     "language": "python",
     "metadata": {},
     "outputs": [],
     "prompt_number": 1
    },
    {
     "cell_type": "code",
     "collapsed": false,
     "input": [
      "# Hosting site for the data files. \n",
      "host_site = 'http://www.sos.siena.edu/~mbellis/ppp_data/'"
     ],
     "language": "python",
     "metadata": {},
     "outputs": [],
     "prompt_number": 2
    },
    {
     "cell_type": "markdown",
     "metadata": {},
     "source": [
      "Here is a list of Monte Carlo (MC) and data files from CLEO. The MC files are for specific decays of $D$ mesons, both charged and neutral. For any given file, there are always (CHECK THIS!!!!!!) two D mesons produced. One decays according to the measured branching fractions, and the other decays through a very specific process. The specific decay is in the name of the file. For example, \n",
      "\n",
      "    Single_D0_to_Kpi_LARGE.dat\n",
      "    \n",
      "would be simulating the following process:\n",
      "\n",
      "$$e^+e^- \\rightarrow D^0 \\bar{D}^0$$\n",
      "$$D^0 \\rightarrow \\textrm{standard decays}$$\n",
      "$$\\bar{D^0} \\rightarrow K^- \\pi^+$$\n",
      "\n",
      "where the $D^0$ and $\\bar{D}^0$ can be exchanged. "
     ]
    },
    {
     "cell_type": "code",
     "collapsed": false,
     "input": [
      "cleo_MC_files = ['Single_D0B_to_KK_ISR_LARGE.dat',\n",
      "'Single_D0B_to_Kenu_ISR_LARGE.dat',\n",
      "'Single_D0B_to_Kpipi0_ISR_LARGE.dat',\n",
      "'Single_D0B_to_Kstenu_ISR_LARGE.dat',\n",
      "'Single_D0B_to_phigamma_ISR_LARGE.dat',\n",
      "'Single_D0B_to_pipi_ISR_LARGE.dat',\n",
      "'Single_D0_to_KK_ISR_LARGE.dat',\n",
      "'Single_D0_to_Kenu_ISR_LARGE.dat',\n",
      "'Single_D0_to_Kpi_LARGE.dat',\n",
      "'Single_D0_to_Kpipi0_ISR_LARGE.dat',\n",
      "'Single_D0_to_Kstenu_ISR_LARGE.dat',\n",
      "'Single_D0_to_phigamma_ISR_LARGE.dat',\n",
      "'Single_D0_to_pipi_ISR_LARGE.dat',\n",
      "'Single_Dm_to_Kpipi_ISR_LARGE.dat',\n",
      "'Single_Dp_to_Kpipi_ISR_LARGE.dat']\n",
      "\n",
      "cleo_data_files = ['data31_100k_LARGE.dat']"
     ],
     "language": "python",
     "metadata": {},
     "outputs": [],
     "prompt_number": 3
    },
    {
     "cell_type": "heading",
     "level": 1,
     "metadata": {},
     "source": [
      "Download the data here!"
     ]
    },
    {
     "cell_type": "markdown",
     "metadata": {},
     "source": [
      "The snippet below can be used to download as much or as little of the extra data as you like. It is currently commented now and is set up to download the first two CLEO MC files, but you can edit it to grab whatever data you like. \n",
      "\n",
      "Have fun!"
     ]
    },
    {
     "cell_type": "code",
     "collapsed": false,
     "input": [
      "'''\n",
      "for file in cleo_MC_files[0:2]:\n",
      "    url = \"%s/%s\" % (host_site,file)\n",
      "    print url\n",
      "    download_file(url)\n",
      "'''"
     ],
     "language": "python",
     "metadata": {},
     "outputs": [
      {
       "metadata": {},
       "output_type": "pyout",
       "prompt_number": 4,
       "text": [
        "'\\nfor file in cleo_MC_files[0:2]:\\n    url = \"%s/%s\" % (host_site,file)\\n    print url\\n    download_file(url)\\n'"
       ]
      }
     ],
     "prompt_number": 4
    }
   ],
   "metadata": {}
  }
 ]
}