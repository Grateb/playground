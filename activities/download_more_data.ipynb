{
 "metadata": {
  "name": "",
  "signature": "sha256:9f71eec104b5f784274890f4bd6917223f076d8fb523c20837cf180f4a1a5d15"
 },
 "nbformat": 3,
 "nbformat_minor": 0,
 "worksheets": [
  {
   "cells": [
    {
     "cell_type": "code",
     "collapsed": false,
     "input": [
      "import requests\n",
      "\n",
      "# Grabbed the following snippet from \n",
      "# http://stackoverflow.com/questions/16694907/how-to-download-large-file-in-python-with-requests-py\n",
      "def download_file(url):\n",
      "    local_filename = \"../data/%s\" % (url.split('/')[-1])\n",
      "    # NOTE the stream=True parameter\n",
      "    r = requests.get(url, stream=True)\n",
      "    print \"Downloading %s.....\" % (local_filename)\n",
      "    with open(local_filename, 'wb') as f:\n",
      "        for chunk in r.iter_content(chunk_size=1024): \n",
      "            if chunk: # filter out keep-alive new chunks\n",
      "                f.write(chunk)\n",
      "                f.flush()\n",
      "    return local_filename"
     ],
     "language": "python",
     "metadata": {},
     "outputs": [],
     "prompt_number": 1
    },
    {
     "cell_type": "code",
     "collapsed": false,
     "input": [
      "host_site = 'http://www.sos.siena.edu/~mbellis/ppp_data/'\n",
      "\n",
      "cleo_files = ['Single_D0B_to_KK_ISR_LARGE.dat',\n",
      "'Single_D0B_to_Kenu_ISR_LARGE.dat',\n",
      "'Single_D0B_to_Kpipi0_ISR_LARGE.dat',\n",
      "'Single_D0B_to_Kstenu_ISR_LARGE.dat',\n",
      "'Single_D0B_to_phigamma_ISR_LARGE.dat',\n",
      "'Single_D0B_to_pipi_ISR_LARGE.dat',\n",
      "'Single_D0_to_KK_ISR_LARGE.dat',\n",
      "'Single_D0_to_Kenu_ISR_LARGE.dat',\n",
      "'Single_D0_to_Kpi_LARGE.dat',\n",
      "'Single_D0_to_Kpipi0_ISR_LARGE.dat',\n",
      "'Single_D0_to_Kstenu_ISR_LARGE.dat',\n",
      "'Single_D0_to_phigamma_ISR_LARGE.dat',\n",
      "'Single_D0_to_pipi_ISR_LARGE.dat',\n",
      "'Single_Dm_to_Kpipi_ISR_LARGE.dat',\n",
      "'Single_Dp_to_Kpipi_ISR_LARGE.dat']"
     ],
     "language": "python",
     "metadata": {},
     "outputs": [],
     "prompt_number": 2
    },
    {
     "cell_type": "code",
     "collapsed": false,
     "input": [
      "'''\n",
      "for file in cleo_files[0:2]:\n",
      "    url = \"%s/%s\" % (host_site,file)\n",
      "    print url\n",
      "    download_file(url)\n",
      "'''"
     ],
     "language": "python",
     "metadata": {},
     "outputs": [
      {
       "metadata": {},
       "output_type": "pyout",
       "prompt_number": 3,
       "text": [
        "'\\nfor file in cleo_files[0:2]:\\n    url = \"%s/%s\" % (host_site,file)\\n    print url\\n    download_file(url)\\n'"
       ]
      }
     ],
     "prompt_number": 3
    },
    {
     "cell_type": "code",
     "collapsed": false,
     "input": [],
     "language": "python",
     "metadata": {},
     "outputs": []
    }
   ],
   "metadata": {}
  }
 ]
}